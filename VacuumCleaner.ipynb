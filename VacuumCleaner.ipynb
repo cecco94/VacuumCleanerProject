{
 "cells": [
  {
   "cell_type": "code",
   "execution_count": 40,
   "metadata": {},
   "outputs": [],
   "source": [
    "from search import *  \n",
    "from utils import *\n",
    "import copy\n",
    "\n",
    "class State:\n",
    "    def __init__(self, row, col, roomMatrix):\n",
    "        self.cleanerRow = row\n",
    "        self.cleanerCol = col\n",
    "        self.roomMatrix = roomMatrix\n",
    "        \n",
    "\n",
    "class VacuumProblem(Problem):\n",
    "\n",
    "    def __init__(self, initial, goal=None):\n",
    "        self.initial = initial\n",
    "        self.goal = goal\n",
    "\n",
    "\n",
    "    def actions(self, state):\n",
    "        possible_actions = ['up','left','down','right', 'suck']\n",
    "\n",
    "        righe = len(state.roomMatrix)\n",
    "        colonne = len(state.roomMatrix[0])\n",
    "\n",
    "        if state.cleanerRow in range(1, righe) and state.cleanerCol in range(1, colonne):\n",
    "            \n",
    "            if state.roomMatrix[state.cleanerRow - 1][state.cleanerCol] == 'x':\n",
    "                possible_actions.remove('down')\n",
    "                \n",
    "            if state.roomMatrix[state.cleanerRow][state.cleanerCol + 1] == 'x':\n",
    "                possible_actions.remove('right')\n",
    "                \n",
    "            if state.roomMatrix[state.cleanerRow][state.cleanerCol - 1] == 'x':\n",
    "                possible_actions.remove('left')\n",
    "         \n",
    "        else:    \n",
    "            if state.cleanerRow == righe - 1:\n",
    "                possible_actions.remove('down')\n",
    "\n",
    "            if state.cleanerRow == 0:\n",
    "                possible_actions.remove('up')\n",
    "\n",
    "            if state.cleanerCol == colonne - 1:\n",
    "                possible_actions.remove('right')\n",
    "\n",
    "            if state.cleanerCol == 0:\n",
    "                possible_actions.remove('left')\n",
    "\n",
    "        return possible_actions\n",
    "\n",
    "\n",
    "    def result(self, state, action):\n",
    "        \"\"\"Return the state that results from executing the given\n",
    "        action in the given state. The action must be one of\n",
    "        self.actions(state).\"\"\"\n",
    "        if action == 'up':\n",
    "            newRow = state.cleanerRow - 1\n",
    "            newState = State(newRow, state.cleanerCol, state.roomMatrix) \n",
    "        \n",
    "        elif action == 'down':\n",
    "            newRow = state.cleanerRow + 1\n",
    "            newState = State(newRow, state.cleanerCol, state.roomMatrix) \n",
    "        \n",
    "        elif action == 'left':\n",
    "            newCol = state.cleanerCol - 1\n",
    "            newState = State(state.cleanerRow, newCol, state.roomMatrix) \n",
    "        \n",
    "        elif action == 'right':\n",
    "            newCol = state.cleanerCol + 1\n",
    "            newState = State(state.cleanerRow, newCol, state.roomMatrix) \n",
    "        \n",
    "        elif action == 'suck':\n",
    "            newMatrix = copy.deepcopy(state.roomMatrix)\n",
    "            newMatrix[state.cleanerRow][state.cleanerCol] = 'c'\n",
    "            newState = State(state.cleanerRow, state.cleanerCol, newMatrix)\n",
    "            \n",
    "        return newState\n",
    "       \n",
    "        \n",
    "    def goal_test(self, state):\n",
    "        #ricorda che alla fina l'aspirapolvere deve finire su f\n",
    "        for roomRow in state.roomMatrix:\n",
    "            for cell in roomRow:\n",
    "                if cell == \"d\" or cell == 'v':\n",
    "                    return False\n",
    "        return True\n",
    "    \n",
    "\n",
    "    def path_cost(self, c, state1, action, state2):\n",
    "        \"\"\"Return the cost of a solution path that arrives at state2 from\n",
    "        state1 via action, assuming cost c to get up to state1. If the problem\n",
    "        is such that the path doesn't matter, this function will only look at\n",
    "        state2. If the path does matter, it will consider c and maybe state1\n",
    "        and action. The default method costs 1 for every step in the path.\"\"\"\n",
    "        \n",
    "        if action == 'suck':\n",
    "            if state1.roomMatrix[state1.cleanerRow][state1.cleanerRow] == 'v':\n",
    "                return c + 3\n",
    "            if state1.roomMatrix[state1.cleanerRow][state1.cleanerRow] == 'd':\n",
    "                return c + 2\n",
    "        return c + 1\n",
    "    \n",
    "\n",
    "    def value(self, state):\n",
    "        \"\"\"For optimization problems, each state has a value. Hill Climbing\n",
    "        and related algorithms try to maximize this value.\"\"\"\n",
    "        raise NotImplementedError"
   ]
  },
  {
   "cell_type": "code",
   "execution_count": 41,
   "metadata": {},
   "outputs": [
    {
     "name": "stdout",
     "output_type": "stream",
     "text": [
      "False\n",
      "[['d', 'c'], ['c', 'c']]\n",
      "[['c', 'c'], ['c', 'c']]\n",
      "True\n"
     ]
    }
   ],
   "source": [
    "prova = State(0, 0, [['d', 'c'],['c', 'c']])\n",
    "provaPorbl = VacuumProblem(prova)\n",
    "newState = provaPorbl.result(provaPorbl.initial,'suck')\n",
    "print(provaPorbl.goal_test(prova))\n",
    "print(prova.roomMatrix)\n",
    "print(newState.roomMatrix)\n",
    "print(provaPorbl.goal_test(newState))\n"
   ]
  },
  {
   "cell_type": "code",
   "execution_count": 42,
   "metadata": {},
   "outputs": [],
   "source": [
    "class Node:\n",
    "    \"\"\"A node in a search tree. Contains a pointer to the parent (the node\n",
    "    that this is a successor of) and to the actual state for this node. Note\n",
    "    that if a state is arrived at by two paths, then there are two nodes with\n",
    "    the same state. Also includes the action that got us to this state, and\n",
    "    the total path_cost (also known as g) to reach the node. Other functions\n",
    "    may add an f and h value; see best_first_graph_search and astar_search for\n",
    "    an explanation of how the f and h values are handled. You will not need to\n",
    "    subclass this class.\"\"\"\n",
    "\n",
    "    def __init__(self, state, parent=None, action=None, path_cost=0):\n",
    "        \"\"\"Create a search tree Node, derived from a parent by an action.\"\"\"\n",
    "        self.state = state\n",
    "        self.parent = parent\n",
    "        self.action = action\n",
    "        self.path_cost = path_cost\n",
    "        self.depth = 0\n",
    "        if parent:\n",
    "            self.depth = parent.depth + 1\n",
    "\n",
    "\n",
    "    def expand(self, problem):\n",
    "        \"\"\"List the nodes reachable in one step from this node.\"\"\"\n",
    "        return [self.child_node(problem, action)\n",
    "                for action in problem.actions(self.state)]\n",
    "\n",
    "\n",
    "    def child_node(self, problem, action):\n",
    "        next_state = problem.result(self.state, action)\n",
    "        next_node = Node(next_state, self, action, problem.path_cost(self.path_cost, self.state, action, next_state))\n",
    "        return next_node\n",
    "\n",
    "\n",
    "    def solution(self):\n",
    "        \"\"\"Return the sequence of actions to go from the root to this node.\"\"\"\n",
    "        return [node.action for node in self.path()[1:]]\n",
    "\n",
    "\n",
    "    def path(self):\n",
    "        \"\"\"Return a list of nodes forming the path from the root to this node.\"\"\"\n",
    "        node, path_back = self, []\n",
    "        while node:\n",
    "            path_back.append(node)\n",
    "            node = node.parent\n",
    "        return list(reversed(path_back))\n",
    "\n",
    "    # We want for a queue of nodes in breadth_first_graph_search or\n",
    "    # astar_search to have no duplicated states, so we treat nodes\n",
    "    # with the same state as equal. [Problem: this may not be what you\n",
    "    # want in other contexts.]\n",
    "\n",
    "    def __eq__(self, other):\n",
    "        return isinstance(other, Node) and self.state == other.state\n",
    "\n",
    "\n",
    "    def __hash__(self):\n",
    "        # We use the hash value of the state\n",
    "        # stored in the node instead of the node\n",
    "        # object itself to quickly search a node\n",
    "        # with the same state in a Hash Table\n",
    "        return hash(self.state)\n",
    "\n",
    "\n",
    "    def __repr__(self):\n",
    "        return \"<Node {}>\".format(self.state)\n",
    "\n",
    "\n",
    "    def __lt__(self, node):\n",
    "        return f(self) < f(node)"
   ]
  },
  {
   "cell_type": "code",
   "execution_count": 43,
   "metadata": {},
   "outputs": [
    {
     "name": "stdout",
     "output_type": "stream",
     "text": [
      "down\n",
      "right\n",
      "suck\n"
     ]
    }
   ],
   "source": [
    "fisrtState = State(0, 0, [['d', 'c'],['c', 'c']])\n",
    "provaPorbl = VacuumProblem(fisrtState)\n",
    "firstNode = Node(provaPorbl.initial)\n",
    "\n",
    "children = firstNode.expand(provaPorbl)\n",
    "for n in children:\n",
    "    print(n.action)"
   ]
  },
  {
   "cell_type": "code",
   "execution_count": 44,
   "metadata": {},
   "outputs": [
    {
     "name": "stdout",
     "output_type": "stream",
     "text": [
      "1\n"
     ]
    }
   ],
   "source": [
    "firstState = State(0, 0, [['d', 'c'],['c', 'c']])\n",
    "provaPorbl = VacuumProblem(fisrtState)\n",
    "firstNode = Node(provaPorbl.initial)\n",
    "\n",
    "newState = provaPorbl.result(firstState, 'down')\n",
    "print(newState.cleanerRow)"
   ]
  },
  {
   "cell_type": "code",
   "execution_count": 45,
   "metadata": {},
   "outputs": [],
   "source": [
    "def best_first_graph_search(problem, f, display=False):\n",
    "    \"\"\"Search the nodes with the lowest f scores first.\n",
    "    You specify the function f(node) that you want to minimize; for example,\n",
    "    if f is a heuristic estimate to the goal, then we have greedy best\n",
    "    first search; if f is node.depth then we have breadth-first search.\n",
    "    There is a subtlety: the line \"f = memoize(f, 'f')\" means that the f\n",
    "    values will be cached on the nodes as they are computed. So after doing\n",
    "    a best first search you can examine the f values of the path returned.\"\"\"\n",
    "    f = memoize(f, 'f')\n",
    "    node = Node(problem.initial)\n",
    "    frontier = PriorityQueue('min', f)\n",
    "    frontier.append(node)\n",
    "    explored = set()\n",
    "    while frontier:\n",
    "        node = frontier.pop()\n",
    "        if problem.goal_test(node.state):\n",
    "            if display:\n",
    "                print(len(explored), \"paths have been expanded and\", len(frontier), \"paths remain in the frontier\")\n",
    "            return node\n",
    "        explored.add(node.state)\n",
    "        for child in node.expand(problem):\n",
    "            if child.state not in explored and child not in frontier:\n",
    "                frontier.append(child)\n",
    "            elif child in frontier:\n",
    "                if f(child) < frontier[child]:\n",
    "                    del frontier[child]\n",
    "                    frontier.append(child)\n",
    "    return None"
   ]
  },
  {
   "cell_type": "code",
   "execution_count": 46,
   "metadata": {},
   "outputs": [
    {
     "ename": "ValueError",
     "evalue": "list.remove(x): x not in list",
     "output_type": "error",
     "traceback": [
      "\u001b[0;31m---------------------------------------------------------------------------\u001b[0m",
      "\u001b[0;31mValueError\u001b[0m                                Traceback (most recent call last)",
      "Cell \u001b[0;32mIn[46], line 7\u001b[0m\n\u001b[1;32m      4\u001b[0m fisrtState \u001b[38;5;241m=\u001b[39m State(\u001b[38;5;241m0\u001b[39m, \u001b[38;5;241m0\u001b[39m, [[\u001b[38;5;124m'\u001b[39m\u001b[38;5;124mc\u001b[39m\u001b[38;5;124m'\u001b[39m, \u001b[38;5;124m'\u001b[39m\u001b[38;5;124mx\u001b[39m\u001b[38;5;124m'\u001b[39m,\u001b[38;5;124m'\u001b[39m\u001b[38;5;124md\u001b[39m\u001b[38;5;124m'\u001b[39m],[\u001b[38;5;124m'\u001b[39m\u001b[38;5;124mc\u001b[39m\u001b[38;5;124m'\u001b[39m, \u001b[38;5;124m'\u001b[39m\u001b[38;5;124mc\u001b[39m\u001b[38;5;124m'\u001b[39m,\u001b[38;5;124m'\u001b[39m\u001b[38;5;124mc\u001b[39m\u001b[38;5;124m'\u001b[39m]])\n\u001b[1;32m      5\u001b[0m provaPorbl \u001b[38;5;241m=\u001b[39m VacuumProblem(fisrtState)\n\u001b[0;32m----> 7\u001b[0m goal \u001b[38;5;241m=\u001b[39m \u001b[43mbest_first_graph_search\u001b[49m\u001b[43m(\u001b[49m\u001b[43mprovaPorbl\u001b[49m\u001b[43m,\u001b[49m\u001b[38;5;28;43;01mlambda\u001b[39;49;00m\u001b[43m \u001b[49m\u001b[43mn\u001b[49m\u001b[43m:\u001b[49m\u001b[43m \u001b[49m\u001b[43mn\u001b[49m\u001b[38;5;241;43m.\u001b[39;49m\u001b[43mdepth\u001b[49m\u001b[43m,\u001b[49m\u001b[43m \u001b[49m\u001b[38;5;28;43;01mTrue\u001b[39;49;00m\u001b[43m)\u001b[49m\n\u001b[1;32m      8\u001b[0m \u001b[38;5;28;01mfor\u001b[39;00m s \u001b[38;5;129;01min\u001b[39;00m goal\u001b[38;5;241m.\u001b[39msolution():\n\u001b[1;32m      9\u001b[0m     \u001b[38;5;28mprint\u001b[39m(s)\n",
      "Cell \u001b[0;32mIn[45], line 21\u001b[0m, in \u001b[0;36mbest_first_graph_search\u001b[0;34m(problem, f, display)\u001b[0m\n\u001b[1;32m     19\u001b[0m     \u001b[38;5;28;01mreturn\u001b[39;00m node\n\u001b[1;32m     20\u001b[0m explored\u001b[38;5;241m.\u001b[39madd(node\u001b[38;5;241m.\u001b[39mstate)\n\u001b[0;32m---> 21\u001b[0m \u001b[38;5;28;01mfor\u001b[39;00m child \u001b[38;5;129;01min\u001b[39;00m \u001b[43mnode\u001b[49m\u001b[38;5;241;43m.\u001b[39;49m\u001b[43mexpand\u001b[49m\u001b[43m(\u001b[49m\u001b[43mproblem\u001b[49m\u001b[43m)\u001b[49m:\n\u001b[1;32m     22\u001b[0m     \u001b[38;5;28;01mif\u001b[39;00m child\u001b[38;5;241m.\u001b[39mstate \u001b[38;5;129;01mnot\u001b[39;00m \u001b[38;5;129;01min\u001b[39;00m explored \u001b[38;5;129;01mand\u001b[39;00m child \u001b[38;5;129;01mnot\u001b[39;00m \u001b[38;5;129;01min\u001b[39;00m frontier:\n\u001b[1;32m     23\u001b[0m         frontier\u001b[38;5;241m.\u001b[39mappend(child)\n",
      "Cell \u001b[0;32mIn[42], line 25\u001b[0m, in \u001b[0;36mNode.expand\u001b[0;34m(self, problem)\u001b[0m\n\u001b[1;32m     22\u001b[0m \u001b[38;5;28;01mdef\u001b[39;00m \u001b[38;5;21mexpand\u001b[39m(\u001b[38;5;28mself\u001b[39m, problem):\n\u001b[1;32m     23\u001b[0m \u001b[38;5;250m    \u001b[39m\u001b[38;5;124;03m\"\"\"List the nodes reachable in one step from this node.\"\"\"\u001b[39;00m\n\u001b[1;32m     24\u001b[0m     \u001b[38;5;28;01mreturn\u001b[39;00m [\u001b[38;5;28mself\u001b[39m\u001b[38;5;241m.\u001b[39mchild_node(problem, action)\n\u001b[0;32m---> 25\u001b[0m             \u001b[38;5;28;01mfor\u001b[39;00m action \u001b[38;5;129;01min\u001b[39;00m \u001b[43mproblem\u001b[49m\u001b[38;5;241;43m.\u001b[39;49m\u001b[43mactions\u001b[49m\u001b[43m(\u001b[49m\u001b[38;5;28;43mself\u001b[39;49m\u001b[38;5;241;43m.\u001b[39;49m\u001b[43mstate\u001b[49m\u001b[43m)\u001b[49m]\n",
      "Cell \u001b[0;32mIn[40], line 41\u001b[0m, in \u001b[0;36mVacuumProblem.actions\u001b[0;34m(self, state)\u001b[0m\n\u001b[1;32m     38\u001b[0m \u001b[38;5;28;01melif\u001b[39;00m state\u001b[38;5;241m.\u001b[39mcleanerRow \u001b[38;5;129;01min\u001b[39;00m \u001b[38;5;28mrange\u001b[39m(\u001b[38;5;241m1\u001b[39m, righe) \u001b[38;5;129;01mand\u001b[39;00m state\u001b[38;5;241m.\u001b[39mcleanerCol \u001b[38;5;129;01min\u001b[39;00m \u001b[38;5;28mrange\u001b[39m(\u001b[38;5;241m1\u001b[39m, colonne):\n\u001b[1;32m     40\u001b[0m     \u001b[38;5;28;01mif\u001b[39;00m state\u001b[38;5;241m.\u001b[39mroomMatrix[state\u001b[38;5;241m.\u001b[39mcleanerRow \u001b[38;5;241m-\u001b[39m \u001b[38;5;241m1\u001b[39m][state\u001b[38;5;241m.\u001b[39mcleanerCol] \u001b[38;5;241m==\u001b[39m \u001b[38;5;124m'\u001b[39m\u001b[38;5;124mx\u001b[39m\u001b[38;5;124m'\u001b[39m:\n\u001b[0;32m---> 41\u001b[0m         \u001b[43mpossible_actions\u001b[49m\u001b[38;5;241;43m.\u001b[39;49m\u001b[43mremove\u001b[49m\u001b[43m(\u001b[49m\u001b[38;5;124;43m'\u001b[39;49m\u001b[38;5;124;43mdown\u001b[39;49m\u001b[38;5;124;43m'\u001b[39;49m\u001b[43m)\u001b[49m\n\u001b[1;32m     43\u001b[0m     \u001b[38;5;28;01mif\u001b[39;00m state\u001b[38;5;241m.\u001b[39mroomMatrix[state\u001b[38;5;241m.\u001b[39mcleanerRow][state\u001b[38;5;241m.\u001b[39mcleanerCol \u001b[38;5;241m+\u001b[39m \u001b[38;5;241m1\u001b[39m] \u001b[38;5;241m==\u001b[39m \u001b[38;5;124m'\u001b[39m\u001b[38;5;124mx\u001b[39m\u001b[38;5;124m'\u001b[39m:\n\u001b[1;32m     44\u001b[0m         possible_actions\u001b[38;5;241m.\u001b[39mremove(\u001b[38;5;124m'\u001b[39m\u001b[38;5;124mright\u001b[39m\u001b[38;5;124m'\u001b[39m)\n",
      "\u001b[0;31mValueError\u001b[0m: list.remove(x): x not in list"
     ]
    }
   ],
   "source": [
    "def f(node):\n",
    "    return node.depth\n",
    "\n",
    "fisrtState = State(0, 0, [['c', 'x','d'],['c', 'c','c']])\n",
    "provaPorbl = VacuumProblem(fisrtState)\n",
    "\n",
    "goal = best_first_graph_search(provaPorbl,lambda n: n.depth, True)\n",
    "for s in goal.solution():\n",
    "    print(s)"
   ]
  },
  {
   "cell_type": "code",
   "execution_count": 8,
   "metadata": {},
   "outputs": [
    {
     "name": "stdout",
     "output_type": "stream",
     "text": [
      "d\n"
     ]
    }
   ],
   "source": [
    "matrix = [['a', 'b'],['c', 'd']]\n",
    "elem = matrix[1][1]\n",
    "print(elem)"
   ]
  }
 ],
 "metadata": {
  "kernelspec": {
   "display_name": "Python 3",
   "language": "python",
   "name": "python3"
  },
  "language_info": {
   "codemirror_mode": {
    "name": "ipython",
    "version": 3
   },
   "file_extension": ".py",
   "mimetype": "text/x-python",
   "name": "python",
   "nbconvert_exporter": "python",
   "pygments_lexer": "ipython3",
   "version": "3.10.12"
  }
 },
 "nbformat": 4,
 "nbformat_minor": 2
}
